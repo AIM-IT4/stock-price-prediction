{
 "cells": [
  {
   "cell_type": "code",
   "execution_count": 1,
   "metadata": {},
   "outputs": [],
   "source": [
    "import warnings\n",
    "warnings.filterwarnings('ignore')"
   ]
  },
  {
   "cell_type": "code",
   "execution_count": 12,
   "metadata": {},
   "outputs": [
    {
     "name": "stdout",
     "output_type": "stream",
     "text": [
      "Collecting pip\n",
      "  Downloading pip-20.3.3-py2.py3-none-any.whl (1.5 MB)\n",
      "\u001b[K     |################################| 1.5 MB 1.3 MB/s eta 0:00:01\n",
      "\u001b[?25hInstalling collected packages: pip\n",
      "  Attempting uninstall: pip\n",
      "    Found existing installation: pip 20.0.2\n",
      "    Uninstalling pip-20.0.2:\n",
      "      Successfully uninstalled pip-20.0.2\n",
      "Successfully installed pip-20.3.3\n"
     ]
    }
   ],
   "source": [
    "!pip install --upgrade pip"
   ]
  },
  {
   "cell_type": "code",
   "execution_count": 13,
   "metadata": {},
   "outputs": [
    {
     "name": "stdout",
     "output_type": "stream",
     "text": [
      "\u001b[33mDEPRECATION: Python 3.5 reached the end of its life on September 13th, 2020. Please upgrade your Python as Python 3.5 is no longer maintained. pip 21.0 will drop support for Python 3.5 in January 2021. pip 21.0 will remove support for this functionality.\u001b[0m\n",
      "Requirement already satisfied: mpl_finance in /root/envs/stock/lib/python3.5/site-packages (0.10.1)\n",
      "Requirement already satisfied: matplotlib in /root/envs/stock/lib/python3.5/site-packages (from mpl_finance) (3.0.3)\n",
      "Requirement already satisfied: numpy>=1.10.0 in /root/envs/stock/lib/python3.5/site-packages (from matplotlib->mpl_finance) (1.18.5)\n",
      "Requirement already satisfied: kiwisolver>=1.0.1 in /root/envs/stock/lib/python3.5/site-packages (from matplotlib->mpl_finance) (1.1.0)\n",
      "Requirement already satisfied: pyparsing!=2.0.4,!=2.1.2,!=2.1.6,>=2.0.1 in /root/envs/stock/lib/python3.5/site-packages (from matplotlib->mpl_finance) (2.4.7)\n",
      "Requirement already satisfied: python-dateutil>=2.1 in /root/envs/stock/lib/python3.5/site-packages (from matplotlib->mpl_finance) (2.8.1)\n",
      "Requirement already satisfied: cycler>=0.10 in /root/envs/stock/lib/python3.5/site-packages (from matplotlib->mpl_finance) (0.10.0)\n",
      "Requirement already satisfied: six in /root/envs/stock/lib/python3.5/site-packages (from cycler>=0.10->matplotlib->mpl_finance) (1.15.0)\n",
      "Requirement already satisfied: setuptools in /root/envs/stock/lib/python3.5/site-packages (from kiwisolver>=1.0.1->matplotlib->mpl_finance) (45.3.0)\n"
     ]
    }
   ],
   "source": [
    "!pip install mpl_finance"
   ]
  },
  {
   "cell_type": "code",
   "execution_count": 14,
   "metadata": {},
   "outputs": [
    {
     "ename": "ImportError",
     "evalue": "No module named 'mpl_finance'",
     "output_type": "error",
     "traceback": [
      "\u001b[0;31m---------------------------------------------------------------------------\u001b[0m",
      "\u001b[0;31mImportError\u001b[0m                               Traceback (most recent call last)",
      "\u001b[0;32m<ipython-input-14-3b03a150a50d>\u001b[0m in \u001b[0;36m<module>\u001b[0;34m\u001b[0m\n\u001b[1;32m      2\u001b[0m \u001b[0;32mimport\u001b[0m \u001b[0mmath\u001b[0m\u001b[0;34m\u001b[0m\u001b[0m\n\u001b[1;32m      3\u001b[0m \u001b[0;32mimport\u001b[0m \u001b[0mmatplotlib\u001b[0m\u001b[0;34m.\u001b[0m\u001b[0mpyplot\u001b[0m \u001b[0;32mas\u001b[0m \u001b[0mplt\u001b[0m\u001b[0;34m\u001b[0m\u001b[0m\n\u001b[0;32m----> 4\u001b[0;31m \u001b[0;32mfrom\u001b[0m \u001b[0mmpl_finance\u001b[0m \u001b[0;32mimport\u001b[0m \u001b[0mcandlestick2_ohlc\u001b[0m\u001b[0;34m\u001b[0m\u001b[0m\n\u001b[0m\u001b[1;32m      5\u001b[0m \u001b[0;32mimport\u001b[0m \u001b[0mpandas\u001b[0m \u001b[0;32mas\u001b[0m \u001b[0mpd\u001b[0m\u001b[0;34m\u001b[0m\u001b[0m\n\u001b[1;32m      6\u001b[0m \u001b[0;32mimport\u001b[0m \u001b[0mnumpy\u001b[0m \u001b[0;32mas\u001b[0m \u001b[0mnp\u001b[0m\u001b[0;34m\u001b[0m\u001b[0m\n",
      "\u001b[0;31mImportError\u001b[0m: No module named 'mpl_finance'"
     ]
    }
   ],
   "source": [
    "import os\n",
    "import math\n",
    "import matplotlib.pyplot as plt\n",
    "from mpl_finance import candlestick2_ohlc\n",
    "import pandas as pd\n",
    "import numpy as np"
   ]
  },
  {
   "cell_type": "code",
   "execution_count": 5,
   "metadata": {},
   "outputs": [],
   "source": [
    "import torch\n",
    "from torch import nn\n",
    "from PIL import Image"
   ]
  },
  {
   "cell_type": "code",
   "execution_count": 6,
   "metadata": {},
   "outputs": [],
   "source": [
    "root_dir = '/notebooks/stock-price-prediction/'"
   ]
  },
  {
   "cell_type": "code",
   "execution_count": 7,
   "metadata": {},
   "outputs": [
    {
     "name": "stdout",
     "output_type": "stream",
     "text": [
      "Number of rows and columns: (2767, 7)\n"
     ]
    },
    {
     "data": {
      "text/html": [
       "<div>\n",
       "<style scoped>\n",
       "    .dataframe tbody tr th:only-of-type {\n",
       "        vertical-align: middle;\n",
       "    }\n",
       "\n",
       "    .dataframe tbody tr th {\n",
       "        vertical-align: top;\n",
       "    }\n",
       "\n",
       "    .dataframe thead th {\n",
       "        text-align: right;\n",
       "    }\n",
       "</style>\n",
       "<table border=\"1\" class=\"dataframe\">\n",
       "  <thead>\n",
       "    <tr style=\"text-align: right;\">\n",
       "      <th></th>\n",
       "      <th>Date</th>\n",
       "      <th>Open</th>\n",
       "      <th>High</th>\n",
       "      <th>Low</th>\n",
       "      <th>Close</th>\n",
       "      <th>Adj Close</th>\n",
       "      <th>Volume</th>\n",
       "    </tr>\n",
       "  </thead>\n",
       "  <tbody>\n",
       "    <tr>\n",
       "      <th>0</th>\n",
       "      <td>2009-01-02</td>\n",
       "      <td>8772.250000</td>\n",
       "      <td>9065.280273</td>\n",
       "      <td>8760.780273</td>\n",
       "      <td>9034.690430</td>\n",
       "      <td>9034.690430</td>\n",
       "      <td>213700000</td>\n",
       "    </tr>\n",
       "    <tr>\n",
       "      <th>1</th>\n",
       "      <td>2009-01-05</td>\n",
       "      <td>9027.129883</td>\n",
       "      <td>9034.370117</td>\n",
       "      <td>8892.360352</td>\n",
       "      <td>8952.889648</td>\n",
       "      <td>8952.889648</td>\n",
       "      <td>233760000</td>\n",
       "    </tr>\n",
       "    <tr>\n",
       "      <th>2</th>\n",
       "      <td>2009-01-06</td>\n",
       "      <td>8954.570313</td>\n",
       "      <td>9088.059570</td>\n",
       "      <td>8940.950195</td>\n",
       "      <td>9015.099609</td>\n",
       "      <td>9015.099609</td>\n",
       "      <td>215410000</td>\n",
       "    </tr>\n",
       "    <tr>\n",
       "      <th>3</th>\n",
       "      <td>2009-01-07</td>\n",
       "      <td>8996.940430</td>\n",
       "      <td>8996.940430</td>\n",
       "      <td>8719.919922</td>\n",
       "      <td>8769.700195</td>\n",
       "      <td>8769.700195</td>\n",
       "      <td>266710000</td>\n",
       "    </tr>\n",
       "    <tr>\n",
       "      <th>4</th>\n",
       "      <td>2009-01-08</td>\n",
       "      <td>8769.940430</td>\n",
       "      <td>8770.019531</td>\n",
       "      <td>8651.190430</td>\n",
       "      <td>8742.459961</td>\n",
       "      <td>8742.459961</td>\n",
       "      <td>226620000</td>\n",
       "    </tr>\n",
       "  </tbody>\n",
       "</table>\n",
       "</div>"
      ],
      "text/plain": [
       "         Date         Open         High          Low        Close  \\\n",
       "0  2009-01-02  8772.250000  9065.280273  8760.780273  9034.690430   \n",
       "1  2009-01-05  9027.129883  9034.370117  8892.360352  8952.889648   \n",
       "2  2009-01-06  8954.570313  9088.059570  8940.950195  9015.099609   \n",
       "3  2009-01-07  8996.940430  8996.940430  8719.919922  8769.700195   \n",
       "4  2009-01-08  8769.940430  8770.019531  8651.190430  8742.459961   \n",
       "\n",
       "     Adj Close     Volume  \n",
       "0  9034.690430  213700000  \n",
       "1  8952.889648  233760000  \n",
       "2  9015.099609  215410000  \n",
       "3  8769.700195  266710000  \n",
       "4  8742.459961  226620000  "
      ]
     },
     "execution_count": 7,
     "metadata": {},
     "output_type": "execute_result"
    }
   ],
   "source": [
    "df=pd.read_csv(root_dir + 'data/dji_2009-2019.csv')\n",
    "print('Number of rows and columns:', df.shape)\n",
    "length = df.shape[0]\n",
    "df.head()"
   ]
  },
  {
   "cell_type": "code",
   "execution_count": 8,
   "metadata": {},
   "outputs": [],
   "source": [
    "seq_length = 30\n",
    "step_length = 5"
   ]
  },
  {
   "cell_type": "code",
   "execution_count": 9,
   "metadata": {},
   "outputs": [],
   "source": [
    "df['target_log'] = np.log(df['Close'].shift(-step_length) / df['Close'])"
   ]
  },
  {
   "cell_type": "code",
   "execution_count": 130,
   "metadata": {},
   "outputs": [
    {
     "data": {
      "text/plain": [
       "((1660, 9), (553, 9), (554, 9))"
      ]
     },
     "execution_count": 130,
     "metadata": {},
     "output_type": "execute_result"
    }
   ],
   "source": [
    "train_df = df[:int(length*0.6)].copy()\n",
    "train_df.reset_index(inplace=True)\n",
    "val_df = df[int(length*0.6):int(length*0.8)].copy()\n",
    "val_df.reset_index(inplace=True)\n",
    "test_df = df.loc[int(length*0.8):].copy()\n",
    "test_df.reset_index(inplace=True)\n",
    "train_df.shape, val_df.shape, test_df.shape"
   ]
  },
  {
   "cell_type": "code",
   "execution_count": 103,
   "metadata": {},
   "outputs": [],
   "source": [
    "def create_candlebar(df, setname):\n",
    "    target = []\n",
    "    filename = []\n",
    "    if not os.path.exists(root_dir + 'data/charts/' + setname):\n",
    "        os.makedirs(root_dir + 'data/charts/' + setname)\n",
    "    for i in range(df.shape[0] - step_length - seq_length):\n",
    "        print(i+1, end='\\r')\n",
    "        target.append(df.loc[i+seq_length-1, 'target_log'])\n",
    "        slices = df[i: i+seq_length]\n",
    "        plt.figure(figsize=(1.12, 1.12), dpi=100)\n",
    "        candlestick2_ohlc(plt.subplot(211), slices['Open'].values, slices['High'].values,\n",
    "                        slices['Low'].values, slices['Close'].values, width=0.6,\n",
    "                        colorup='b', colordown='r', alpha=1)\n",
    "        plt.axis('off')\n",
    "\n",
    "        plt.subplot(212)\n",
    "        plt.bar(range(30), slices['Volume'].values, color='g')\n",
    "        plt.axis('off')\n",
    "\n",
    "        plt.savefig(root_dir + 'data/charts/' + setname + '/candlebar_'\\\n",
    "                    + str(i) + '-' + str(i+seq_length-1) + '.png')\n",
    "        filename.append('candlebar_' + str(i) + '-' + str(i+seq_length-1) + '.png')\n",
    "        plt.close('all')\n",
    "    pd.DataFrame({'filename': filename,\n",
    "                  'target': target}).to_csv(root_dir + 'data/charts/' + setname + '_target.csv', index=False)"
   ]
  },
  {
   "cell_type": "code",
   "execution_count": 104,
   "metadata": {},
   "outputs": [
    {
     "name": "stdout",
     "output_type": "stream",
     "text": [
      "1625\r"
     ]
    }
   ],
   "source": [
    "create_candlebar(train_df, 'train')"
   ]
  },
  {
   "cell_type": "code",
   "execution_count": 105,
   "metadata": {},
   "outputs": [
    {
     "name": "stdout",
     "output_type": "stream",
     "text": [
      "518\r"
     ]
    }
   ],
   "source": [
    "create_candlebar(val_df, 'val')"
   ]
  }
 ],
 "metadata": {
  "kernelspec": {
   "display_name": "Python 3",
   "language": "python",
   "name": "python3"
  },
  "language_info": {
   "codemirror_mode": {
    "name": "ipython",
    "version": 3
   },
   "file_extension": ".py",
   "mimetype": "text/x-python",
   "name": "python",
   "nbconvert_exporter": "python",
   "pygments_lexer": "ipython3",
   "version": "3.5.2"
  }
 },
 "nbformat": 4,
 "nbformat_minor": 4
}
